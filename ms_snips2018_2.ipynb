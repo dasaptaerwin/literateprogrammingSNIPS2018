{
 "cells": [
  {
   "cell_type": "markdown",
   "metadata": {},
   "source": [
    "# Literate programming contoh implementasinya dalam pembelajaran sains\n",
    "\n",
    "- Author: Dasapta Erwin Irawan[1], Cut Novianti Rachmi[2], dan Sandi Herho[1] \n",
    "- Affiliasi:\n",
    "\n",
    "    1. Institut Teknologi Bandung\n",
    "    2. Universitas Padjadjaran\n",
    "     \n",
    "- Email: dasaptaerwin@outlook.co.id\n",
    "- Description: This document is a manuscript for the SNIPS 2018 ITB\n",
    "- Keywords: literate programming, reproducible research "
   ]
  },
  {
   "cell_type": "markdown",
   "metadata": {},
   "source": [
    "# Abstrak\n",
    "\n",
    "Kode sering diajarkan dalam pembelajaran sains. Selain dapat menuntun alur pikir, kode juga melatih ingatan serta kreativitas. Saat menulis laporan, sering kali kita menggabungkan narasi dengan kode dan luarannya menggunakan teknik salin tempel. Cara ini tidak praktis. *Literate programming* dapat membantu Anda menulis laporan (atau artikel) dengan menggabungkan narasi-kode-luaran secara otomatis. Dalam artikel ini, saya menayangkan aplikasi literate programming menggunakan Bahasa Python dengan Jupyter Notebook untuk melakukan analisis statistik sederhana terhadap data kualitas air tanah di Bandung. Dari hasil yang didapatkan, metode ini dapat digunakan untuk menjelaskan tahapan analisis sejak membuka data, memanipulasi data untuk menyiapkan data, visualisasi, hingga analisisnya secara naratif yang menyatu dengan kode perintah dan luaran prosesnya.   "
   ]
  },
  {
   "cell_type": "markdown",
   "metadata": {},
   "source": [
    "# Abstract\n",
    "\n",
    "[translate] Kode sering diajarkan dalam pembelajaran sains. Selain dapat menuntun alur pikir, kode juga melatih ingatan serta kreativitas. Saat menulis laporan, sering kali kita menggabungkan narasi dengan kode dan luarannya menggunakan teknik salin tempel. Cara ini tidak praktis. *Literate programming* dapat membantu Anda menulis laporan (atau artikel) dengan menggabungkan narasi-kode-luaran secara otomatis. Dalam artikel ini, saya menayangkan aplikasi literate programming menggunakan Bahasa Python dengan Jupyter Notebook untuk melakukan analisis statistik sederhana terhadap data kualitas air tanah di Bandung. Dari hasil yang didapatkan, metode ini dapat digunakan untuk menjelaskan tahapan analisis sejak membuka data, memanipulasi data untuk menyiapkan data, visualisasi, hingga analisisnya secara naratif yang menyatu dengan kode perintah dan luaran prosesnya.   "
   ]
  },
  {
   "cell_type": "markdown",
   "metadata": {},
   "source": [
    "# Pendahuluan\n",
    "\n",
    "Kode sering diajarkan dalam pembelajaran sains. Selain dapat menuntun alur pikir, kode juga melatih ingatan serta kreativitas ([Filiz, 2015](https://www.sciencedirect.com/science/article/pii/S0747563215004288)). Saat menulis laporan, sering kali kita menggabungkan narasi dengan kode dan luarannya menggunakan teknik salin tempel. Cara ini tidak praktis. *Literate programming* (LP) dapat membantu Anda menulis laporan (atau artikel) dengan menggabungkan narasi-kode-luaran secara otomatis. Tujuan dari artikel ini adalah untuk menjelaskan konsep LP, bagaimana metodenya, serta aplikasinya dengan studi kasus analisis statistik sederhana untuk data kualitas air tanah di Kota Bandung. "
   ]
  },
  {
   "cell_type": "markdown",
   "metadata": {},
   "source": [
    "# Sekilas tentang literate programming\n",
    "\n",
    "Literate programming (LP) dikenalkan oleh David Knuth. Bila dilacak dokumentasinya, maka ide ini pertama kali terbit sebagai makalah dalam jurnal [1](https://academic.oup.com/comjnl/article/27/2/97/343244). Dalam dokumen itu, Knuth menyampaikan bahwa dunia pemrograman secara umum memerlukan suatu cara agar kode program yang sama dapat diulang oleh orang lain, sekarang konsep ini diberi nama *reproducible research*/RR (riset yang dapat diulang). Definisi dari RR dijelaskan dengan sangat baik oleh [ROpensci (2018)](http://ropensci.github.io/reproducibility-guide/sections/introduction/), yakni suatu upaya yang bertujuan agar pihak lain dapat mengulang setiap prosedur riset yang telah kita lakukan. Tidak hanya mengulang, tapi lebih jauh lagi, yakni dapat menggunakan ulang (_reuse_) dan memodifikasinya untuk keperluan lain (_remix_), atau bahkan mengoreksi alur yang kita buat (_contribute_) [3](http://science.sciencemag.org/content/334/6060/1226),[4](https://www.ncbi.nlm.nih.gov/pubmed/24204232).    "
   ]
  },
  {
   "cell_type": "markdown",
   "metadata": {},
   "source": [
    "# Metode"
   ]
  },
  {
   "cell_type": "markdown",
   "metadata": {},
   "source": [
    "# Contoh aplikasi dalam analisis statistik sederhana"
   ]
  },
  {
   "cell_type": "markdown",
   "metadata": {},
   "source": [
    "## Data"
   ]
  },
  {
   "cell_type": "markdown",
   "metadata": {},
   "source": [
    "## Analisis"
   ]
  },
  {
   "cell_type": "markdown",
   "metadata": {},
   "source": [
    "## Hasil "
   ]
  },
  {
   "cell_type": "markdown",
   "metadata": {},
   "source": [
    "# Kesimpulan"
   ]
  },
  {
   "cell_type": "markdown",
   "metadata": {},
   "source": [
    "# Daftar pustaka (Bibtex data)\n",
    "\n",
    "1. D. E. Knuth; Literate Programming, The Computer Journal, Volume 27, Issue 2, 1 January 1984, Pages 97–111, https://doi.org/10.1093/comjnl/27.2.97\n",
    "\n",
    "2. ROpensci (2018) http://ropensci.github.io/reproducibility-guide/sections/introduction/\n",
    "\n",
    "3. Peng, R.D. () url http://science.sciencemag.org/content/334/6060/1226)\n",
    "\n",
    "4. Sandve et al. () url [4](https://www.ncbi.nlm.nih.gov/pubmed/24204232)\n",
    "\n",
    "5. \n",
    "\n",
    "6. \n",
    "\n",
    "7. \n",
    "\n",
    "8.\n",
    "\n",
    "9.\n",
    "\n",
    "10."
   ]
  }
 ],
 "metadata": {
  "anaconda-cloud": {},
  "kernelspec": {
   "display_name": "Python [Root]",
   "language": "python",
   "name": "Python [Root]"
  },
  "language_info": {
   "codemirror_mode": {
    "name": "ipython",
    "version": 3
   },
   "file_extension": ".py",
   "mimetype": "text/x-python",
   "name": "python",
   "nbconvert_exporter": "python",
   "pygments_lexer": "ipython3",
   "version": "3.5.2"
  }
 },
 "nbformat": 4,
 "nbformat_minor": 0
}
